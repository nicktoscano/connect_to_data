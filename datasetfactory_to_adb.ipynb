{
 "cells": [
  {
   "cell_type": "code",
   "execution_count": null,
   "metadata": {},
   "outputs": [],
   "source": [
    "#if not installed, run this\n",
    "#!pip install geopandas\n",
    "#!pip install Shapely\n",
    "#!pip install matplotlib"
   ]
  },
  {
   "cell_type": "markdown",
   "metadata": {},
   "source": [
    "### Import Libraries"
   ]
  },
  {
   "cell_type": "code",
   "execution_count": 3,
   "metadata": {},
   "outputs": [],
   "source": [
    "import cx_Oracle\n",
    "import logging\n",
    "import os\n",
    "import pandas as pd\n",
    "import warnings\n",
    "import ads\n",
    "\n",
    "from ads.database import connection \n",
    "from ads.database.connection import Connector\n",
    "from ads.dataset.factory import DatasetFactory\n",
    "from urllib.request import urlopen\n",
    "from sqlalchemy import create_engine\n",
    "\n",
    "#warnings.filterwarnings(\"ignore\", category=DeprecationWarning) \n",
    "logging.basicConfig(format='%(levelname)s:%(message)s', level=logging.INFO)\n",
    "warnings.filterwarnings(\"ignore\")"
   ]
  },
  {
   "cell_type": "code",
   "execution_count": 4,
   "metadata": {},
   "outputs": [
    {
     "data": {
      "text/plain": [
       "{'database_type': 'oracle',\n",
       " 'database_name': 'adb01_high',\n",
       " 'username': 'ML_Analyst',\n",
       " 'password': 'NDRCwelcome1'}"
      ]
     },
     "execution_count": 4,
     "metadata": {},
     "output_type": "execute_result"
    }
   ],
   "source": [
    "database_name = \"ADB01\"\n",
    "connection.get_repository(key=database_name)"
   ]
  },
  {
   "cell_type": "code",
   "execution_count": 5,
   "metadata": {},
   "outputs": [],
   "source": [
    "wallet_path = os.path.join(os.path.expanduser(\"~\"), f\"Wallet_{database_name}.zip\")\n",
    "\n",
    "if database_name != \"<database_name>\":\n",
    "    connection.import_wallet(wallet_path=wallet_path, key=database_name)"
   ]
  },
  {
   "cell_type": "code",
   "execution_count": 6,
   "metadata": {},
   "outputs": [],
   "source": [
    "connector = Connector(key=database_name)"
   ]
  },
  {
   "cell_type": "code",
   "execution_count": 7,
   "metadata": {},
   "outputs": [
    {
     "name": "stdout",
     "output_type": "stream",
     "text": [
      "{'database_type': 'oracle', 'database_name': 'adb01_high', 'username': 'ML_Analyst', 'password': 'NDRCwelcome1'}\n"
     ]
    }
   ],
   "source": [
    " print(connector.config)"
   ]
  },
  {
   "cell_type": "code",
   "execution_count": 8,
   "metadata": {},
   "outputs": [
    {
     "data": {
      "text/plain": [
       "<sqlalchemy.engine.base.Connection at 0x7f0358f6c710>"
      ]
     },
     "execution_count": 8,
     "metadata": {},
     "output_type": "execute_result"
    }
   ],
   "source": [
    "connector.connect()"
   ]
  },
  {
   "cell_type": "markdown",
   "metadata": {},
   "source": [
    "### Connect to Autonomous Database"
   ]
  },
  {
   "cell_type": "code",
   "execution_count": 9,
   "metadata": {},
   "outputs": [],
   "source": [
    "# Query data\n",
    "ais_ships = \"\"\"\n",
    "    SELECT * \n",
    "    FROM ANALYST.AIS_SHIPS\n",
    "    FETCH FIRST 100 ROWS ONLY\n",
    "    \"\"\""
   ]
  },
  {
   "cell_type": "markdown",
   "metadata": {},
   "source": [
    "#### Fetch Data as DatasetFactory"
   ]
  },
  {
   "cell_type": "code",
   "execution_count": 10,
   "metadata": {},
   "outputs": [
    {
     "data": {
      "application/vnd.jupyter.widget-view+json": {
       "model_id": "308ce88315f74117939e43209b0407fa",
       "version_major": 2,
       "version_minor": 0
      },
      "text/plain": [
       "loop1:   0%|          | 0/4 [00:00<?, ?it/s]"
      ]
     },
     "metadata": {},
     "output_type": "display_data"
    },
    {
     "name": "stderr",
     "output_type": "stream",
     "text": [
      "\n",
      "100 rows [00:00, 2828.49 rows/s]\n"
     ]
    },
    {
     "data": {
      "text/plain": [
       "ads.dataset.dataset.ADSDataset"
      ]
     },
     "execution_count": 10,
     "metadata": {},
     "output_type": "execute_result"
    }
   ],
   "source": [
    "ais = DatasetFactory.open(connector.uri, format=\"sql\",table=ais_ships)\n",
    "#print(ais.head())\n",
    "type(ais)  "
   ]
  },
  {
   "cell_type": "code",
   "execution_count": 11,
   "metadata": {},
   "outputs": [],
   "source": [
    "#### Fetch Data as Pandas Dataframe"
   ]
  },
  {
   "cell_type": "code",
   "execution_count": 16,
   "metadata": {},
   "outputs": [],
   "source": [
    "# Make a connection to the Engine and run a query\n",
    "engine = create_engine(connector.uri)\n",
    "sql_ais = \"SELECT * FROM ANALYST.AIS_SHIPS FETCH FIRST 100 ROWS ONLY\"\n",
    "ais_table = pd.read_sql(sql_ais, con=engine)"
   ]
  },
  {
   "cell_type": "code",
   "execution_count": 17,
   "metadata": {},
   "outputs": [
    {
     "data": {
      "text/plain": [
       "pandas.core.frame.DataFrame"
      ]
     },
     "execution_count": 17,
     "metadata": {},
     "output_type": "execute_result"
    }
   ],
   "source": [
    "type(ais_table)"
   ]
  },
  {
   "cell_type": "code",
   "execution_count": 18,
   "metadata": {},
   "outputs": [
    {
     "data": {
      "text/html": [
       "<div>\n",
       "<style scoped>\n",
       "    .dataframe tbody tr th:only-of-type {\n",
       "        vertical-align: middle;\n",
       "    }\n",
       "\n",
       "    .dataframe tbody tr th {\n",
       "        vertical-align: top;\n",
       "    }\n",
       "\n",
       "    .dataframe thead th {\n",
       "        text-align: right;\n",
       "    }\n",
       "</style>\n",
       "<table border=\"1\" class=\"dataframe\">\n",
       "  <thead>\n",
       "    <tr style=\"text-align: right;\">\n",
       "      <th></th>\n",
       "      <th>mmsi</th>\n",
       "      <th>basedatetime</th>\n",
       "      <th>date_as_number</th>\n",
       "      <th>latitude</th>\n",
       "      <th>longitude</th>\n",
       "      <th>sog</th>\n",
       "      <th>cog</th>\n",
       "      <th>heading</th>\n",
       "      <th>vesselname</th>\n",
       "      <th>imo</th>\n",
       "      <th>...</th>\n",
       "      <th>vesseltype</th>\n",
       "      <th>vessel_category</th>\n",
       "      <th>vessel_status_code</th>\n",
       "      <th>vessel_status_desc</th>\n",
       "      <th>vessel_length</th>\n",
       "      <th>vessel_width</th>\n",
       "      <th>draft</th>\n",
       "      <th>cargo</th>\n",
       "      <th>transcieverclass</th>\n",
       "      <th>studio_key</th>\n",
       "    </tr>\n",
       "  </thead>\n",
       "  <tbody>\n",
       "    <tr>\n",
       "      <th>0</th>\n",
       "      <td>367423550</td>\n",
       "      <td>2020-10-13 21:46:03</td>\n",
       "      <td>651.906979</td>\n",
       "      <td>21.32924</td>\n",
       "      <td>-158.12</td>\n",
       "      <td>0.0</td>\n",
       "      <td>193.7</td>\n",
       "      <td>511</td>\n",
       "      <td>STAR CHASER</td>\n",
       "      <td>None</td>\n",
       "      <td>...</td>\n",
       "      <td>37</td>\n",
       "      <td>Pleasure Craft/Sailing</td>\n",
       "      <td>None</td>\n",
       "      <td>None</td>\n",
       "      <td>12</td>\n",
       "      <td>NaN</td>\n",
       "      <td>None</td>\n",
       "      <td>None</td>\n",
       "      <td>B</td>\n",
       "      <td>701616789</td>\n",
       "    </tr>\n",
       "    <tr>\n",
       "      <th>1</th>\n",
       "      <td>367423550</td>\n",
       "      <td>2020-10-13 21:52:05</td>\n",
       "      <td>651.911169</td>\n",
       "      <td>21.32924</td>\n",
       "      <td>-158.12</td>\n",
       "      <td>0.0</td>\n",
       "      <td>193.7</td>\n",
       "      <td>511</td>\n",
       "      <td>STAR CHASER</td>\n",
       "      <td>None</td>\n",
       "      <td>...</td>\n",
       "      <td>37</td>\n",
       "      <td>Pleasure Craft/Sailing</td>\n",
       "      <td>None</td>\n",
       "      <td>None</td>\n",
       "      <td>12</td>\n",
       "      <td>NaN</td>\n",
       "      <td>None</td>\n",
       "      <td>None</td>\n",
       "      <td>B</td>\n",
       "      <td>681767147</td>\n",
       "    </tr>\n",
       "    <tr>\n",
       "      <th>2</th>\n",
       "      <td>367423550</td>\n",
       "      <td>2020-10-07 23:58:05</td>\n",
       "      <td>645.998669</td>\n",
       "      <td>21.32924</td>\n",
       "      <td>-158.12</td>\n",
       "      <td>0.0</td>\n",
       "      <td>-137.2</td>\n",
       "      <td>511</td>\n",
       "      <td>STAR CHASER</td>\n",
       "      <td>None</td>\n",
       "      <td>...</td>\n",
       "      <td>37</td>\n",
       "      <td>Pleasure Craft/Sailing</td>\n",
       "      <td>None</td>\n",
       "      <td>None</td>\n",
       "      <td>12</td>\n",
       "      <td>NaN</td>\n",
       "      <td>None</td>\n",
       "      <td>None</td>\n",
       "      <td>B</td>\n",
       "      <td>1930143283</td>\n",
       "    </tr>\n",
       "    <tr>\n",
       "      <th>3</th>\n",
       "      <td>367423550</td>\n",
       "      <td>2020-10-13 02:13:04</td>\n",
       "      <td>651.092407</td>\n",
       "      <td>21.32925</td>\n",
       "      <td>-158.12</td>\n",
       "      <td>0.0</td>\n",
       "      <td>-145.2</td>\n",
       "      <td>511</td>\n",
       "      <td>STAR CHASER</td>\n",
       "      <td>None</td>\n",
       "      <td>...</td>\n",
       "      <td>37</td>\n",
       "      <td>Pleasure Craft/Sailing</td>\n",
       "      <td>None</td>\n",
       "      <td>None</td>\n",
       "      <td>12</td>\n",
       "      <td>NaN</td>\n",
       "      <td>None</td>\n",
       "      <td>None</td>\n",
       "      <td>B</td>\n",
       "      <td>1277033128</td>\n",
       "    </tr>\n",
       "    <tr>\n",
       "      <th>4</th>\n",
       "      <td>367423550</td>\n",
       "      <td>2020-10-13 02:22:04</td>\n",
       "      <td>651.098657</td>\n",
       "      <td>21.32925</td>\n",
       "      <td>-158.12</td>\n",
       "      <td>0.0</td>\n",
       "      <td>-145.2</td>\n",
       "      <td>511</td>\n",
       "      <td>STAR CHASER</td>\n",
       "      <td>None</td>\n",
       "      <td>...</td>\n",
       "      <td>37</td>\n",
       "      <td>Pleasure Craft/Sailing</td>\n",
       "      <td>None</td>\n",
       "      <td>None</td>\n",
       "      <td>12</td>\n",
       "      <td>NaN</td>\n",
       "      <td>None</td>\n",
       "      <td>None</td>\n",
       "      <td>B</td>\n",
       "      <td>1117051213</td>\n",
       "    </tr>\n",
       "  </tbody>\n",
       "</table>\n",
       "<p>5 rows × 21 columns</p>\n",
       "</div>"
      ],
      "text/plain": [
       "        mmsi        basedatetime  date_as_number  latitude  longitude  sog  \\\n",
       "0  367423550 2020-10-13 21:46:03      651.906979  21.32924    -158.12  0.0   \n",
       "1  367423550 2020-10-13 21:52:05      651.911169  21.32924    -158.12  0.0   \n",
       "2  367423550 2020-10-07 23:58:05      645.998669  21.32924    -158.12  0.0   \n",
       "3  367423550 2020-10-13 02:13:04      651.092407  21.32925    -158.12  0.0   \n",
       "4  367423550 2020-10-13 02:22:04      651.098657  21.32925    -158.12  0.0   \n",
       "\n",
       "     cog  heading   vesselname   imo  ... vesseltype         vessel_category  \\\n",
       "0  193.7      511  STAR CHASER  None  ...         37  Pleasure Craft/Sailing   \n",
       "1  193.7      511  STAR CHASER  None  ...         37  Pleasure Craft/Sailing   \n",
       "2 -137.2      511  STAR CHASER  None  ...         37  Pleasure Craft/Sailing   \n",
       "3 -145.2      511  STAR CHASER  None  ...         37  Pleasure Craft/Sailing   \n",
       "4 -145.2      511  STAR CHASER  None  ...         37  Pleasure Craft/Sailing   \n",
       "\n",
       "  vessel_status_code vessel_status_desc vessel_length  vessel_width  draft  \\\n",
       "0               None               None            12           NaN   None   \n",
       "1               None               None            12           NaN   None   \n",
       "2               None               None            12           NaN   None   \n",
       "3               None               None            12           NaN   None   \n",
       "4               None               None            12           NaN   None   \n",
       "\n",
       "  cargo transcieverclass  studio_key  \n",
       "0  None                B   701616789  \n",
       "1  None                B   681767147  \n",
       "2  None                B  1930143283  \n",
       "3  None                B  1277033128  \n",
       "4  None                B  1117051213  \n",
       "\n",
       "[5 rows x 21 columns]"
      ]
     },
     "execution_count": 18,
     "metadata": {},
     "output_type": "execute_result"
    }
   ],
   "source": [
    "ais_table.head()"
   ]
  },
  {
   "cell_type": "code",
   "execution_count": null,
   "metadata": {},
   "outputs": [],
   "source": []
  }
 ],
 "metadata": {
  "kernelspec": {
   "display_name": "Python [conda env:oracledatabaseforcpupython3_7v1]",
   "language": "python",
   "name": "conda-env-oracledatabaseforcpupython3_7v1-py"
  },
  "language_info": {
   "codemirror_mode": {
    "name": "ipython",
    "version": 3
   },
   "file_extension": ".py",
   "mimetype": "text/x-python",
   "name": "python",
   "nbconvert_exporter": "python",
   "pygments_lexer": "ipython3",
   "version": "3.7.10"
  }
 },
 "nbformat": 4,
 "nbformat_minor": 4
}
