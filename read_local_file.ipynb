{
 "cells": [
  {
   "cell_type": "markdown",
   "id": "410d04d5",
   "metadata": {},
   "source": [
    "## Example of Reading a Local File into JuptyerLab"
   ]
  },
  {
   "cell_type": "code",
   "execution_count": null,
   "id": "67f6746f",
   "metadata": {},
   "outputs": [],
   "source": [
    "import warnings\n",
    "from ads.dataset.factory import DatasetFactory\n",
    "warnings.filterwarnings(\"ignore\")"
   ]
  },
  {
   "cell_type": "code",
   "execution_count": null,
   "id": "e9874bab",
   "metadata": {},
   "outputs": [],
   "source": [
    "#ds = DatasetFactory.open(\"/path/to/data/file.csv\", format='csv')\n",
    "ds = DatasetFactory.open(\"iris.csv\", format='csv')"
   ]
  },
  {
   "cell_type": "code",
   "execution_count": null,
   "id": "c65209e5",
   "metadata": {},
   "outputs": [],
   "source": [
    "ds.head()"
   ]
  },
  {
   "cell_type": "code",
   "execution_count": null,
   "id": "48d53da5",
   "metadata": {},
   "outputs": [],
   "source": [
    "#help\n",
    "#help(DatasetFactory.open)"
   ]
  }
 ],
 "metadata": {
  "kernelspec": {
   "display_name": "Python [conda env:generalmachinelearningforcpusvy]",
   "language": "python",
   "name": "conda-env-generalmachinelearningforcpusvy-py"
  },
  "language_info": {
   "codemirror_mode": {
    "name": "ipython",
    "version": 3
   },
   "file_extension": ".py",
   "mimetype": "text/x-python",
   "name": "python",
   "nbconvert_exporter": "python",
   "pygments_lexer": "ipython3",
   "version": "3.6.11"
  }
 },
 "nbformat": 4,
 "nbformat_minor": 5
}
